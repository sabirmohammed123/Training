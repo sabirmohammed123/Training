{
  "nbformat": 4,
  "nbformat_minor": 0,
  "metadata": {
    "colab": {
      "provenance": [],
      "authorship_tag": "ABX9TyNkFLNGR8Mc29Y5g4QGN5oD",
      "include_colab_link": true
    },
    "kernelspec": {
      "name": "python3",
      "display_name": "Python 3"
    },
    "language_info": {
      "name": "python"
    }
  },
  "cells": [
    {
      "cell_type": "markdown",
      "metadata": {
        "id": "view-in-github",
        "colab_type": "text"
      },
      "source": [
        "<a href=\"https://colab.research.google.com/github/sabirmohammed123/Training/blob/main/24-09.ipynb\" target=\"_parent\"><img src=\"https://colab.research.google.com/assets/colab-badge.svg\" alt=\"Open In Colab\"/></a>"
      ]
    },
    {
      "cell_type": "code",
      "execution_count": 5,
      "metadata": {
        "colab": {
          "base_uri": "https://localhost:8080/"
        },
        "id": "N5vxQxXxRoUS",
        "outputId": "67418846-fe41-42c6-9603-ada819d1e967"
      },
      "outputs": [
        {
          "output_type": "stream",
          "name": "stdout",
          "text": [
            "2\n",
            "0 0\n",
            " 0 0\n",
            "this is a sparse matrix\n"
          ]
        }
      ],
      "source": [
        "#sparse matrix it should be half of more than columns like 3 col it will be 2zeros\n",
        "\n",
        "n = int(input())\n",
        "mat =[]\n",
        "for i in range(n):\n",
        "  mat.append(list(map(int,input().split())))\n",
        "sparse = 0\n",
        "for i in range(n):\n",
        "  count = 0\n",
        "  for j in range(n):\n",
        "    if mat[i][j] == 0:\n",
        "      count += 1\n",
        "  if count > len(mat[0]) // 2:\n",
        "    sparse += 1\n",
        "if sparse == len(mat):\n",
        "  print(\"this is a sparse matrix\")\n",
        "else:\n",
        "  print(\"this is not a sparse matrix\")\n"
      ]
    },
    {
      "cell_type": "code",
      "source": [
        "#to swap odd row and odd index\n",
        "n = int(input())\n",
        "m =int(input())\n",
        "mat =[]\n",
        "for i in range(n):\n",
        "  mat.append(list(map(int,input().split())))\n",
        "for i in range(n):\n",
        "  if i % 2 == 0:\n",
        "    print(*mat[i])\n",
        "  else:\n",
        "    print(*mat[i][::-1])"
      ],
      "metadata": {
        "colab": {
          "base_uri": "https://localhost:8080/"
        },
        "id": "4rOHghndVw4n",
        "outputId": "29976ba3-4726-4d8e-885d-5b52c35fff53"
      },
      "execution_count": 6,
      "outputs": [
        {
          "output_type": "stream",
          "name": "stdout",
          "text": [
            "3\n",
            "3\n",
            "5 9 -2\n",
            "-3 4 1\n",
            "2 6 1\n",
            "5 9 -2\n",
            "1 4 -3\n",
            "2 6 1\n"
          ]
        }
      ]
    },
    {
      "cell_type": "code",
      "source": [
        "#super nova matrix\n",
        "\n",
        "m,n= map(int,(input().split()))\n",
        "mat =[]\n",
        "for i in range(n):\n",
        "  mat.append(list(map(int,input().split())))\n",
        "temp = 0\n",
        "for i in range(1,n-1):\n",
        "  for j in range(1,n-1):\n",
        "    if mat[i][j] == 1:\n",
        "      l = [mat[i][j+1],mat[i][j-1],mat[i-1][j-1],mat[i-1][j],mat[i-1][j+1],mat[i+1][j-1],mat[i+1][j],mat[i+1][j+1]]\n",
        "      if all (cell==0 for cell in l):\n",
        "        print(\"Yes\")\n",
        "        temp = 1\n",
        "if temp == 0:\n",
        "  print(\"No\")\n"
      ],
      "metadata": {
        "colab": {
          "base_uri": "https://localhost:8080/"
        },
        "id": "dk5oGmRLY6qA",
        "outputId": "79710863-006f-4575-e800-6d2e83145cf0"
      },
      "execution_count": 8,
      "outputs": [
        {
          "output_type": "stream",
          "name": "stdout",
          "text": [
            "4 4\n",
            "1 0 0 0\n",
            "0 0 0 1\n",
            "0 1 0 0\n",
            "0 0 0 0 \n",
            "Yes\n"
          ]
        }
      ]
    },
    {
      "cell_type": "code",
      "source": [
        "#the given matrix is 4x4 but we need sub matrix 3x3 in that we need to find highest value and store in d name matrix\n",
        "\n",
        "n= int(input())\n",
        "mat =[]\n",
        "for i in range(n):\n",
        "  mat.append(list(map(int,input().split())))\n",
        "for i in range(n-2):\n",
        "  for j in range(n-2):\n",
        "    max_value = mat[i][j]\n",
        "    for si in range(3):\n",
        "      for sj in range(3):\n",
        "        max_value = max(max_value, mat[si+i][sj+j])\n",
        "    print(max_value, end=\" \")\n",
        "  print()"
      ],
      "metadata": {
        "colab": {
          "base_uri": "https://localhost:8080/",
          "height": 297
        },
        "id": "lt8JNLWFi_ne",
        "outputId": "7c1e256c-65b3-468d-99f3-e4a4b7d31375"
      },
      "execution_count": 27,
      "outputs": [
        {
          "name": "stdout",
          "output_type": "stream",
          "text": [
            "4\n",
            "12 9 8 40\n",
            "5 20 2 6\n",
            "8 14 6 30\n",
            "6 2 25 2\n"
          ]
        },
        {
          "output_type": "error",
          "ename": "TypeError",
          "evalue": "'int' object is not callable",
          "traceback": [
            "\u001b[0;31m---------------------------------------------------------------------------\u001b[0m",
            "\u001b[0;31mTypeError\u001b[0m                                 Traceback (most recent call last)",
            "\u001b[0;32m/tmp/ipython-input-3966772553.py\u001b[0m in \u001b[0;36m<cell line: 0>\u001b[0;34m()\u001b[0m\n\u001b[1;32m     10\u001b[0m     \u001b[0;32mfor\u001b[0m \u001b[0msi\u001b[0m \u001b[0;32min\u001b[0m \u001b[0mrange\u001b[0m\u001b[0;34m(\u001b[0m\u001b[0;36m3\u001b[0m\u001b[0;34m)\u001b[0m\u001b[0;34m:\u001b[0m\u001b[0;34m\u001b[0m\u001b[0;34m\u001b[0m\u001b[0m\n\u001b[1;32m     11\u001b[0m       \u001b[0;32mfor\u001b[0m \u001b[0msj\u001b[0m \u001b[0;32min\u001b[0m \u001b[0mrange\u001b[0m\u001b[0;34m(\u001b[0m\u001b[0;36m3\u001b[0m\u001b[0;34m)\u001b[0m\u001b[0;34m:\u001b[0m\u001b[0;34m\u001b[0m\u001b[0;34m\u001b[0m\u001b[0m\n\u001b[0;32m---> 12\u001b[0;31m         \u001b[0mmax_value\u001b[0m \u001b[0;34m=\u001b[0m \u001b[0mmax\u001b[0m\u001b[0;34m(\u001b[0m\u001b[0mmax_value\u001b[0m\u001b[0;34m,\u001b[0m \u001b[0mmat\u001b[0m\u001b[0;34m[\u001b[0m\u001b[0msi\u001b[0m\u001b[0;34m+\u001b[0m\u001b[0mi\u001b[0m\u001b[0;34m]\u001b[0m\u001b[0;34m[\u001b[0m\u001b[0msj\u001b[0m\u001b[0;34m+\u001b[0m\u001b[0mj\u001b[0m\u001b[0;34m]\u001b[0m\u001b[0;34m)\u001b[0m\u001b[0;34m\u001b[0m\u001b[0;34m\u001b[0m\u001b[0m\n\u001b[0m\u001b[1;32m     13\u001b[0m     \u001b[0mprint\u001b[0m\u001b[0;34m(\u001b[0m\u001b[0mmax_value\u001b[0m\u001b[0;34m,\u001b[0m \u001b[0mend\u001b[0m\u001b[0;34m=\u001b[0m\u001b[0;34m\" \"\u001b[0m\u001b[0;34m)\u001b[0m\u001b[0;34m\u001b[0m\u001b[0;34m\u001b[0m\u001b[0m\n\u001b[1;32m     14\u001b[0m   \u001b[0mprint\u001b[0m\u001b[0;34m(\u001b[0m\u001b[0;34m)\u001b[0m\u001b[0;34m\u001b[0m\u001b[0;34m\u001b[0m\u001b[0m\n",
            "\u001b[0;31mTypeError\u001b[0m: 'int' object is not callable"
          ]
        }
      ]
    },
    {
      "cell_type": "code",
      "source": [],
      "metadata": {
        "id": "jdbKPFCes00C"
      },
      "execution_count": 18,
      "outputs": []
    }
  ]
}