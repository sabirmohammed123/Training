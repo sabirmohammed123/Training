{
  "nbformat": 4,
  "nbformat_minor": 0,
  "metadata": {
    "colab": {
      "provenance": [],
      "authorship_tag": "ABX9TyN0VO9S8PFiXiJkJWIYy0sc",
      "include_colab_link": true
    },
    "kernelspec": {
      "name": "python3",
      "display_name": "Python 3"
    },
    "language_info": {
      "name": "python"
    }
  },
  "cells": [
    {
      "cell_type": "markdown",
      "metadata": {
        "id": "view-in-github",
        "colab_type": "text"
      },
      "source": [
        "<a href=\"https://colab.research.google.com/github/sabirmohammed123/Training/blob/main/8-10-2025.ipynb\" target=\"_parent\"><img src=\"https://colab.research.google.com/assets/colab-badge.svg\" alt=\"Open In Colab\"/></a>"
      ]
    },
    {
      "cell_type": "code",
      "execution_count": 2,
      "metadata": {
        "colab": {
          "base_uri": "https://localhost:8080/"
        },
        "id": "CsxERPFRXk14",
        "outputId": "200292d0-8767-4542-d6e1-64000661e556"
      },
      "outputs": [
        {
          "output_type": "stream",
          "name": "stdout",
          "text": [
            "{'uranus', 'pluto', 'neptune', 'Mercury', 'jupiter', 'saturn', 'mars', ' venus', 'earth'}\n"
          ]
        }
      ],
      "source": [
        "#how to create empty set\n",
        "planets = {\"Mercury\", \" venus\",\"earth\",\"mars\"}\n",
        "others = {\"jupiter\",\"saturn\",\"uranus\",\"neptune\",\"pluto\"}\n",
        "planets.update(others)\n",
        "print(planets)"
      ]
    },
    {
      "cell_type": "code",
      "source": [
        "movies = {\"mirai\",\"og\",\"kantara\",\"spidermen\"}\n",
        "print(\"little hearts\"in movies)\n",
        "print(\"og\"in movies)"
      ],
      "metadata": {
        "colab": {
          "base_uri": "https://localhost:8080/"
        },
        "id": "Y7vn1DqykkYz",
        "outputId": "886a2602-4e76-41aa-ed8f-1d67175467ae"
      },
      "execution_count": 3,
      "outputs": [
        {
          "output_type": "stream",
          "name": "stdout",
          "text": [
            "False\n",
            "True\n"
          ]
        }
      ]
    },
    {
      "cell_type": "code",
      "source": [
        "#find count of all uinque elements\n",
        "rhyme = \"twinkle twinkle little stars\"\n",
        "unique_count = 0\n",
        "for ch in rhyme:\n",
        "    if rhyme.count(ch)==1:\n",
        "        unique_count+=1\n",
        "print(unique_count)"
      ],
      "metadata": {
        "colab": {
          "base_uri": "https://localhost:8080/"
        },
        "id": "Tmh-MT2Nm6cS",
        "outputId": "f36a130d-d702-4aea-cefd-8211fe8bad31"
      },
      "execution_count": 13,
      "outputs": [
        {
          "output_type": "stream",
          "name": "stdout",
          "text": [
            "2\n"
          ]
        }
      ]
    },
    {
      "cell_type": "code",
      "source": [
        "stri = \"Alice in the Wonder land\"\n",
        "duplicates = set()\n",
        "unique = set()\n",
        "for char in stri:\n",
        "    if char in unique:\n",
        "        duplicates.add(char)\n",
        "    else:\n",
        "        unique.add(char)\n",
        "print(duplicates)"
      ],
      "metadata": {
        "colab": {
          "base_uri": "https://localhost:8080/"
        },
        "id": "tdZYlEWax4Vt",
        "outputId": "d3c4774a-2726-4a52-dbce-74a1a84a4c91"
      },
      "execution_count": 14,
      "outputs": [
        {
          "output_type": "stream",
          "name": "stdout",
          "text": [
            "{'d', ' ', 'n', 'i', 'l', 'e'}\n"
          ]
        }
      ]
    }
  ]
}