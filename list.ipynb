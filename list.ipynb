{
  "nbformat": 4,
  "nbformat_minor": 0,
  "metadata": {
    "colab": {
      "provenance": [],
      "authorship_tag": "ABX9TyOpps6zCOXBIn/J5kBqsuxn",
      "include_colab_link": true
    },
    "kernelspec": {
      "name": "python3",
      "display_name": "Python 3"
    },
    "language_info": {
      "name": "python"
    }
  },
  "cells": [
    {
      "cell_type": "markdown",
      "metadata": {
        "id": "view-in-github",
        "colab_type": "text"
      },
      "source": [
        "<a href=\"https://colab.research.google.com/github/sabirmohammed123/Training/blob/main/list.ipynb\" target=\"_parent\"><img src=\"https://colab.research.google.com/assets/colab-badge.svg\" alt=\"Open In Colab\"/></a>"
      ]
    },
    {
      "cell_type": "code",
      "execution_count": null,
      "metadata": {
        "colab": {
          "base_uri": "https://localhost:8080/"
        },
        "id": "oMN_UA034hwO",
        "outputId": "98354826-ee14-4a05-b3f1-c5ce946dcf2c"
      },
      "outputs": [
        {
          "output_type": "stream",
          "name": "stdout",
          "text": [
            "[10, 3.25, 'shaziya']\n",
            "10 3.25 shaziya\n",
            "<class 'list'>\n"
          ]
        }
      ],
      "source": [
        "#list\n",
        "l =[10,3.25,\"shaziya\"]\n",
        "print(l)\n",
        "print(*l)\n",
        "print(type(l))"
      ]
    },
    {
      "cell_type": "code",
      "source": [
        "#slicing operator\n",
        "#[start:end:step]\n",
        "#[0:len:1]\n",
        "l =[10,3.25,\"shaziya\",546,\"dftgy\"]\n",
        "l[0] = 25\n",
        "print(l[0])\n",
        "print(l[1:4])\n",
        "print(l[-1])\n",
        "print(l[-2:-5])\n",
        "print(dir(l))"
      ],
      "metadata": {
        "colab": {
          "base_uri": "https://localhost:8080/"
        },
        "id": "bAvlF9V67jaC",
        "outputId": "c6939a29-dff0-4af2-a597-fa31d5eaf502"
      },
      "execution_count": null,
      "outputs": [
        {
          "output_type": "stream",
          "name": "stdout",
          "text": [
            "25\n",
            "[3.25, 'shaziya', 546]\n",
            "dftgy\n",
            "[]\n",
            "['__add__', '__class__', '__class_getitem__', '__contains__', '__delattr__', '__delitem__', '__dir__', '__doc__', '__eq__', '__format__', '__ge__', '__getattribute__', '__getitem__', '__getstate__', '__gt__', '__hash__', '__iadd__', '__imul__', '__init__', '__init_subclass__', '__iter__', '__le__', '__len__', '__lt__', '__mul__', '__ne__', '__new__', '__reduce__', '__reduce_ex__', '__repr__', '__reversed__', '__rmul__', '__setattr__', '__setitem__', '__sizeof__', '__str__', '__subclasshook__', 'append', 'clear', 'copy', 'count', 'extend', 'index', 'insert', 'pop', 'remove', 'reverse', 'sort']\n"
          ]
        }
      ]
    },
    {
      "cell_type": "code",
      "source": [
        "#list operations\n",
        "\n",
        "m = [10,50,60,70,80,90,100]\n",
        "print(*m)\n",
        "m.append(8)\n",
        "print(m)\n",
        "#inserting at any postion\n",
        "m.insert(2,20)  #[position,Value]\n",
        "print(m)\n",
        "m.clear()#removing all element\n",
        "print(m)\n",
        "n = [20,3,6,5]\n",
        "p = n.copy() #copying\n",
        "print(p)\n",
        "#counting\n",
        "a = [1,2,2,3,3,4,4,55,55,55]\n",
        "print(*a)\n",
        "for i in range(len(a)):\n",
        "  print(a.count(a[i]),end=\" \")\n",
        "#extending\n",
        "t1 = [1,2,3,4]\n",
        "t2 = [5,6,7,8,9]\n",
        "t1.extend(t2)\n",
        "print(\"\\n\",t1)\n",
        "# indexing\n",
        "k =[1,4,7,8,9,6,3]\n",
        "print(k.index(3))\n",
        "print(k.index(6,2,7))\n",
        "\n",
        "#removing and poping\n",
        "\n",
        "x =[10,20,30,50,60,70]\n",
        "print(x)\n",
        "print(x.remove(20)) #removing value\n",
        "print(x)\n",
        "print(x.pop(2)) #removing index\n",
        "print(x)\n",
        "\n",
        "\n",
        "\n"
      ],
      "metadata": {
        "colab": {
          "base_uri": "https://localhost:8080/"
        },
        "id": "S8zUeOM8_onY",
        "outputId": "6e3f9e67-4904-446c-cad7-8be0935d5d7b"
      },
      "execution_count": null,
      "outputs": [
        {
          "output_type": "stream",
          "name": "stdout",
          "text": [
            "10 50 60 70 80 90 100\n",
            "[10, 50, 60, 70, 80, 90, 100, 8]\n",
            "[10, 50, 20, 60, 70, 80, 90, 100, 8]\n",
            "[]\n",
            "[20, 3, 6, 5]\n",
            "1 2 2 3 3 4 4 55 55 55\n",
            "1 2 2 2 2 2 2 3 3 3 \n",
            " [1, 2, 3, 4, 5, 6, 7, 8, 9]\n",
            "6\n",
            "5\n",
            "[10, 20, 30, 50, 60, 70]\n",
            "None\n",
            "[10, 30, 50, 60, 70]\n",
            "50\n",
            "[10, 30, 60, 70]\n"
          ]
        }
      ]
    },
    {
      "cell_type": "code",
      "source": [
        "#dynamically list\n",
        "k = list(map(int,input().split()))\n",
        "print(type(k))\n",
        "print(k)\n"
      ],
      "metadata": {
        "colab": {
          "base_uri": "https://localhost:8080/"
        },
        "id": "8bN_W-IeAow4",
        "outputId": "2deff445-9605-4fef-8dd5-c00bff6db9fc"
      },
      "execution_count": null,
      "outputs": [
        {
          "output_type": "stream",
          "name": "stdout",
          "text": [
            "10 20 50\n",
            "<class 'list'>\n",
            "[10, 20, 50]\n"
          ]
        }
      ]
    },
    {
      "cell_type": "code",
      "source": [
        "#if we now how much should we traceback\n",
        "l = []\n",
        "n=5\n",
        "for i in range(n+1):\n",
        "  l.append(int(input()))\n",
        "print(l)\n",
        "l.clear()\n",
        "print(l)\n",
        "print(type(l))"
      ],
      "metadata": {
        "colab": {
          "base_uri": "https://localhost:8080/"
        },
        "id": "oI5GLb5dBiS2",
        "outputId": "a6ee3c5f-08bb-4bd4-f335-e2babec3c4d3"
      },
      "execution_count": null,
      "outputs": [
        {
          "output_type": "stream",
          "name": "stdout",
          "text": [
            "10\n",
            "20\n",
            "50\n",
            "400\n",
            "50\n",
            "50\n",
            "[10, 20, 50, 400, 50, 50]\n",
            "[]\n",
            "<class 'list'>\n"
          ]
        }
      ]
    },
    {
      "cell_type": "code",
      "source": [
        "#operator\n",
        "l1 = [1,2,3,4]\n",
        "l2 = [5,6,7,8]\n",
        "c=l1+l2\n",
        "print(c)\n",
        "d=l1*5\n",
        "print(d)\n",
        "\n"
      ],
      "metadata": {
        "colab": {
          "base_uri": "https://localhost:8080/"
        },
        "id": "CkHKHPAxHCtA",
        "outputId": "6e000666-aec5-43c0-cecb-638e8e037bf3"
      },
      "execution_count": null,
      "outputs": [
        {
          "output_type": "stream",
          "name": "stdout",
          "text": [
            "[1, 2, 3, 4, 5, 6, 7, 8]\n",
            "[1, 2, 3, 4, 1, 2, 3, 4, 1, 2, 3, 4, 1, 2, 3, 4, 1, 2, 3, 4]\n"
          ]
        }
      ]
    },
    {
      "cell_type": "code",
      "source": [
        "#write a program to print second maximun ina list\n",
        "h = list(map(int,input().split()))\n",
        "max = h[0]\n",
        "min = h[0]\n",
        "for i in range(len(h)):\n",
        "    if max<h[i]:\n",
        "        max = h[i-1]\n",
        "    if min>h[i]:\n",
        "        min =h[i+1]\n",
        "print(max)\n",
        "print(min)"
      ],
      "metadata": {
        "colab": {
          "base_uri": "https://localhost:8080/"
        },
        "id": "XgQ0E57vVekd",
        "outputId": "3899b8b5-0c5d-4919-cd7a-fb9082f7993b"
      },
      "execution_count": 40,
      "outputs": [
        {
          "output_type": "stream",
          "name": "stdout",
          "text": [
            "10 20 30 40 50 -9 -7 12\n",
            "40\n",
            "-7\n"
          ]
        }
      ]
    },
    {
      "cell_type": "code",
      "source": [
        "#write a program to print second maximun ina list\n",
        "h = list(map(int,input().split()))\n",
        "temp =0\n",
        "max = h[0]\n",
        "min = h[0]\n",
        "for i in range(1,len(h)):\n",
        "  if max<h[i]:\n",
        "    temp = max\n",
        "    max = h[i]\n",
        "  elif temp<h[i]:\n",
        "    temp = h[i]\n",
        "print(temp)"
      ],
      "metadata": {
        "colab": {
          "base_uri": "https://localhost:8080/"
        },
        "id": "w6nj8SZpYKYD",
        "outputId": "43a2cd8f-43b7-464e-e67a-61534cca3a32"
      },
      "execution_count": 41,
      "outputs": [
        {
          "output_type": "stream",
          "name": "stdout",
          "text": [
            "10 40 80 70 -9 36 95\n",
            "80\n"
          ]
        }
      ]
    },
    {
      "cell_type": "code",
      "source": [
        "#write a program to print even numbers and odd numbers ina list\n",
        "h = list(map(int,input().split()))\n",
        "sum=0\n",
        "for i in range(len(h)):\n",
        "  if h[i]%2==0:\n",
        "    sum = sum+h[i]\n",
        "    print(h[i],end=\" \")\n",
        "print(\"/n\",sum)\n"
      ],
      "metadata": {
        "colab": {
          "base_uri": "https://localhost:8080/"
        },
        "id": "VmBdyuXnZFmd",
        "outputId": "512aa9c8-002f-4433-ad66-4ef4de23050f"
      },
      "execution_count": 52,
      "outputs": [
        {
          "output_type": "stream",
          "name": "stdout",
          "text": [
            "1 2 3 4 5 6\n",
            "2 4 6 /n 12\n"
          ]
        }
      ]
    }
  ]
}