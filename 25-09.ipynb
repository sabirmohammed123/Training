{
  "nbformat": 4,
  "nbformat_minor": 0,
  "metadata": {
    "colab": {
      "provenance": [],
      "authorship_tag": "ABX9TyMcE0Vf8wuK8lhou8umAGp1",
      "include_colab_link": true
    },
    "kernelspec": {
      "name": "python3",
      "display_name": "Python 3"
    },
    "language_info": {
      "name": "python"
    }
  },
  "cells": [
    {
      "cell_type": "markdown",
      "metadata": {
        "id": "view-in-github",
        "colab_type": "text"
      },
      "source": [
        "<a href=\"https://colab.research.google.com/github/sabirmohammed123/Training/blob/main/25-09.ipynb\" target=\"_parent\"><img src=\"https://colab.research.google.com/assets/colab-badge.svg\" alt=\"Open In Colab\"/></a>"
      ]
    },
    {
      "cell_type": "code",
      "execution_count": 4,
      "metadata": {
        "colab": {
          "base_uri": "https://localhost:8080/"
        },
        "id": "iOeMpOl2_GnS",
        "outputId": "653e4803-7561-4d41-cbc7-e55d2ad90cc7"
      },
      "outputs": [
        {
          "output_type": "stream",
          "name": "stdout",
          "text": [
            "6\n",
            "1 1 1 0 0 0\n",
            "0 1 0 0 0 0\n",
            "1 1 1 0 0 0\n",
            "0 0 2 4 4 0\n",
            "0 0 0 2 0 0\n",
            "0 0 1 2 4 0\n",
            "19\n"
          ]
        }
      ],
      "source": [
        "n=int(input())\n",
        "mat=[]\n",
        "for i in range(n):\n",
        "  mat.append(list(map(int,input().split())))\n",
        "max = 0\n",
        "for i in range(n-2):\n",
        "  for j in range(n-2):\n",
        "      l=[mat[i][j],mat[i][j+1],mat[i][j+2],mat[i+1][j+1],mat[i+2][j],mat[i+2][j+1],mat[i+2][j+2]]\n",
        "      if sum(l) >max:\n",
        "        max = sum(l)\n",
        "print(max)"
      ]
    },
    {
      "cell_type": "code",
      "source": [
        "#bytes collections of asci value with in range(0 , 256)\n",
        "\n",
        "l = [48 , 65 ,95, 100, 105,240]\n",
        "print(type(l))\n",
        "l1 = bytes(l)\n",
        "print(l1)\n",
        "print(l1[0])\n",
        "print(l1[1:4])"
      ],
      "metadata": {
        "colab": {
          "base_uri": "https://localhost:8080/"
        },
        "id": "DX5YQAI2EOa_",
        "outputId": "6aab1988-c707-40ec-b3ae-b5cc302e5b29"
      },
      "execution_count": 8,
      "outputs": [
        {
          "output_type": "stream",
          "name": "stdout",
          "text": [
            "<class 'list'>\n",
            "b'0A_di\\xf0'\n",
            "48\n",
            "b'A_d'\n"
          ]
        }
      ]
    },
    {
      "cell_type": "code",
      "source": [
        "#bytearray : collection of ascii value\n",
        "# it is a ordered , indexed , mutable\n",
        "#allows duplicate value\n",
        "l=[10,32,35,65,48,90,122,100]\n",
        "l1 = bytearray(l)\n",
        "print(l1)\n",
        "print(l1[0])\n",
        "print(l1[1:5])"
      ],
      "metadata": {
        "colab": {
          "base_uri": "https://localhost:8080/"
        },
        "id": "GawnEbAaMbfE",
        "outputId": "4263b922-4535-4455-aad5-6b7f0a0f414f"
      },
      "execution_count": 11,
      "outputs": [
        {
          "output_type": "stream",
          "name": "stdout",
          "text": [
            "bytearray(b'\\n #A0Zzd')\n",
            "10\n",
            "bytearray(b' #A0')\n"
          ]
        }
      ]
    },
    {
      "cell_type": "code",
      "source": [
        "#TUPLE : collection of heterogenous elements\n",
        "#it is a ordered , index , inmutable\n",
        "#it allows duplicate value\n",
        "t = (10,20,30)\n",
        "print(type(t))\n",
        "t=()\n",
        "t1 = (10)\n",
        "print(type(t1))\n",
        "t2 = (10,)\n",
        "print(type(t2))\n",
        "l = [1,2,3,40]\n",
        "t3 = tuple(l)\n",
        "print(t3)\n",
        "p =(10,20,30,4,5,3,63)\n",
        "print(p[4])\n",
        "print(p[1:5])\n",
        "print(p[-1:-4:-1])\n",
        "print(dir(p))\n",
        "print(p.count(4))\n",
        "print(p.index(4))\n",
        "print(len(p))\n",
        "#print(max(p))\n",
        "print(min(p))\n",
        "print(sum(p))\n",
        "p1 = sorted(p)\n",
        "print(p1)\n",
        "p2 = tuple(p1)\n",
        "print(p2)"
      ],
      "metadata": {
        "colab": {
          "base_uri": "https://localhost:8080/"
        },
        "id": "EOCxcTlgOXcn",
        "outputId": "caaca028-f628-46a6-fb81-de934f1d8b6d"
      },
      "execution_count": 24,
      "outputs": [
        {
          "output_type": "stream",
          "name": "stdout",
          "text": [
            "<class 'tuple'>\n",
            "<class 'int'>\n",
            "<class 'tuple'>\n",
            "(1, 2, 3, 40)\n",
            "5\n",
            "(20, 30, 4, 5)\n",
            "(63, 3, 5)\n",
            "['__add__', '__class__', '__class_getitem__', '__contains__', '__delattr__', '__dir__', '__doc__', '__eq__', '__format__', '__ge__', '__getattribute__', '__getitem__', '__getnewargs__', '__getstate__', '__gt__', '__hash__', '__init__', '__init_subclass__', '__iter__', '__le__', '__len__', '__lt__', '__mul__', '__ne__', '__new__', '__reduce__', '__reduce_ex__', '__repr__', '__rmul__', '__setattr__', '__sizeof__', '__str__', '__subclasshook__', 'count', 'index']\n",
            "1\n",
            "3\n",
            "7\n",
            "3\n",
            "135\n",
            "[3, 4, 5, 10, 20, 30, 63]\n",
            "(3, 4, 5, 10, 20, 30, 63)\n"
          ]
        }
      ]
    },
    {
      "cell_type": "code",
      "source": [
        "t=((1,2),(3,4),(5,6))\n",
        "print(t)\n",
        "print(t[0])\n",
        "print(t[0][1])\n",
        "for i in range (len(t)):\n",
        "  print(t[i])\n"
      ],
      "metadata": {
        "colab": {
          "base_uri": "https://localhost:8080/"
        },
        "id": "RoFXXBAsUKLg",
        "outputId": "a03b5d3d-eaf3-4fef-af78-23b4bd4aa706"
      },
      "execution_count": 26,
      "outputs": [
        {
          "output_type": "stream",
          "name": "stdout",
          "text": [
            "((1, 2), (3, 4), (5, 6))\n",
            "(1, 2)\n",
            "2\n",
            "(1, 2)\n",
            "(3, 4)\n",
            "(5, 6)\n"
          ]
        }
      ]
    },
    {
      "cell_type": "code",
      "source": [
        "#write a program to print duplicates values from a tuple\n",
        "t =tuple(map(int,input().split()))\n",
        "l=[]\n",
        "for i in range(len(t)):\n",
        "  if t.count(t[i])>1 and t[i] not in l:\n",
        "    l.append(t[i])\n",
        "print(*l)"
      ],
      "metadata": {
        "colab": {
          "base_uri": "https://localhost:8080/"
        },
        "id": "V0W5NhgxU1q2",
        "outputId": "e4a2539c-30a6-4bc8-d40e-0174e58eff1d"
      },
      "execution_count": 31,
      "outputs": [
        {
          "output_type": "stream",
          "name": "stdout",
          "text": [
            "10 20 306 00 6 042 65  0 45 5 1\n",
            "0\n"
          ]
        }
      ]
    },
    {
      "cell_type": "code",
      "source": [
        "#write a program to print reverse string in their ordered\n",
        "s = tuple(map(str,input().split()))\n",
        "for x in s:\n",
        "  if(x.isalpha()):\n",
        "    print(x[::-1],end=\" \")\n",
        "  #print(*x[::-1])"
      ],
      "metadata": {
        "colab": {
          "base_uri": "https://localhost:8080/"
        },
        "id": "XRALzVgxZZBK",
        "outputId": "54f81caf-66fd-4619-d748-5b3a0bd22eb2"
      },
      "execution_count": 36,
      "outputs": [
        {
          "output_type": "stream",
          "name": "stdout",
          "text": [
            "apple banana grapes\n",
            "elppa ananab separg "
          ]
        }
      ]
    },
    {
      "cell_type": "code",
      "source": [
        "#packing\n",
        "\n",
        "a,b,c,d = 10,20,30,40\n",
        "print(a,b,c,d)\n",
        "t = a,b,c,d\n",
        "print(t)\n",
        "p,q,r,s = t\n",
        "print(p,q,r,s)"
      ],
      "metadata": {
        "colab": {
          "base_uri": "https://localhost:8080/"
        },
        "id": "tAyNT6mVcy9S",
        "outputId": "d94854d4-fe22-4b35-e875-064d3f66c21b"
      },
      "execution_count": 39,
      "outputs": [
        {
          "output_type": "stream",
          "name": "stdout",
          "text": [
            "10 20 30 40\n",
            "(10, 20, 30, 40)\n",
            "10 20 30 40\n"
          ]
        }
      ]
    },
    {
      "cell_type": "code",
      "source": [
        "#SET : collectio of heterogenous elements\n",
        "# it is unordered , immuatable\n",
        "#duplicates are not allowed\n",
        "s={}\n",
        "print(type(s))\n",
        "s = set()\n",
        "print(type(s))\n",
        "print(s)\n",
        "s = {10,50,60,70,60}\n",
        "print(s)\n",
        "s.add(90)\n",
        "print(s)\n"
      ],
      "metadata": {
        "colab": {
          "base_uri": "https://localhost:8080/"
        },
        "id": "B0eLj_KEde78",
        "outputId": "d0fc8fda-1418-49d8-de01-441180abc0e8"
      },
      "execution_count": 42,
      "outputs": [
        {
          "output_type": "stream",
          "name": "stdout",
          "text": [
            "<class 'dict'>\n",
            "<class 'set'>\n",
            "set()\n",
            "{10, 50, 70, 60}\n",
            "{70, 10, 50, 90, 60}\n"
          ]
        }
      ]
    }
  ]
}