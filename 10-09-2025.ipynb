{
  "nbformat": 4,
  "nbformat_minor": 0,
  "metadata": {
    "colab": {
      "provenance": [],
      "authorship_tag": "ABX9TyOJsj4UgiuA5fHaAz8wH8SN",
      "include_colab_link": true
    },
    "kernelspec": {
      "name": "python3",
      "display_name": "Python 3"
    },
    "language_info": {
      "name": "python"
    }
  },
  "cells": [
    {
      "cell_type": "markdown",
      "metadata": {
        "id": "view-in-github",
        "colab_type": "text"
      },
      "source": [
        "<a href=\"https://colab.research.google.com/github/sabirmohammed123/Training/blob/main/10-09-2025.ipynb\" target=\"_parent\"><img src=\"https://colab.research.google.com/assets/colab-badge.svg\" alt=\"Open In Colab\"/></a>"
      ]
    },
    {
      "cell_type": "code",
      "execution_count": 4,
      "metadata": {
        "colab": {
          "base_uri": "https://localhost:8080/"
        },
        "id": "tBdzKXA5Khf8",
        "outputId": "a8dc4326-9edb-4db4-db35-a3278b159fcb"
      },
      "outputs": [
        {
          "output_type": "stream",
          "name": "stdout",
          "text": [
            "Enter the stringaba\n",
            "The string is palindrom\n"
          ]
        }
      ],
      "source": [
        "#write a program to check whether given string is palindrom or not\n",
        "\n",
        "n=str(input(\"Enter the string\"))\n",
        "s =n[: :-1]\n",
        "if (n==s):\n",
        "  print(\"The string is palindrom\")\n",
        "else:\n",
        "  print(\"The string is not palindrom\")\n"
      ]
    },
    {
      "cell_type": "code",
      "source": [
        "s1=input()\n",
        "s2=\"\"\n",
        "for i in range(len(s1)-1,-1,-1):\n",
        "  s2=s2+s1[i]\n",
        "print(s2)\n",
        "if(s1==s2):\n",
        "  print(\"The string is palindrom\")\n",
        "else:\n",
        "  print(\"The string is not palindrom\")\n"
      ],
      "metadata": {
        "colab": {
          "base_uri": "https://localhost:8080/"
        },
        "id": "HwX30ZEtNNjS",
        "outputId": "8b15f51b-85d6-4e13-acab-3fc833b8014c"
      },
      "execution_count": 16,
      "outputs": [
        {
          "output_type": "stream",
          "name": "stdout",
          "text": [
            "sos\n",
            "sos\n",
            "The string is palindrom\n"
          ]
        }
      ]
    },
    {
      "cell_type": "code",
      "source": [
        "'''#write a program to remove special character in string\n",
        "\n",
        "n=\"sabir#$%123\"\n",
        "p=\"\"\n",
        "for i in range(len(n)):\n",
        "  if(n[i].isalpha()):\n",
        "    p=p+n[i]\n",
        "print(p)'''\n",
        "\n",
        "\n",
        "s1 = input()\n",
        "for character in s1:\n",
        "  if not character.isalpha():\n",
        "    s1=s1.replace(character,\"\")\n",
        "print(s1)"
      ],
      "metadata": {
        "colab": {
          "base_uri": "https://localhost:8080/"
        },
        "id": "T59TlDRGP6jS",
        "outputId": "639ad395-f5ff-43cc-cd6a-f3b87b3f76dd"
      },
      "execution_count": 20,
      "outputs": [
        {
          "output_type": "stream",
          "name": "stdout",
          "text": [
            "s@3%8767abir%*&r\n",
            "sabirr\n"
          ]
        }
      ]
    },
    {
      "cell_type": "code",
      "source": [
        "#write a program of anagram\n",
        "\n",
        "s1=input()\n",
        "s2=input()\n",
        "temp =0\n",
        "if len(s1)==len(s2):\n",
        "  for character in s1:\n",
        "    if character not in s2:\n",
        "      temp = 1\n",
        "      break\n",
        "\n",
        "  if temp ==0:\n",
        "    print(\"The string is anagram\")\n",
        "  else:\n",
        "    print(\"The string is not anagram\")\n",
        "else:\n",
        "  print(\"The string is not anagram\")\n"
      ],
      "metadata": {
        "colab": {
          "base_uri": "https://localhost:8080/"
        },
        "id": "UcGMlM1OYMoo",
        "outputId": "46d7f1d4-bc5a-45c0-cc8b-a69b0c93a33d"
      },
      "execution_count": 23,
      "outputs": [
        {
          "output_type": "stream",
          "name": "stdout",
          "text": [
            "sabir\n",
            "ribas\n",
            "The string is anagram\n"
          ]
        }
      ]
    },
    {
      "cell_type": "code",
      "source": [
        "#write a program to convert a string into title case\n",
        "'''n=input()\n",
        "s=n.title()\n",
        "print(s)'''\n",
        "\n",
        "s =list(input())\n",
        "for i in range(len(s)):\n",
        "  if i==0:\n",
        "    s[0] = s[i].upper()\n",
        "  elif s[i-1]==' ':\n",
        "    s[i] = s[i].upper()\n",
        "print(\"\".join(s))\n",
        "\n"
      ],
      "metadata": {
        "colab": {
          "base_uri": "https://localhost:8080/"
        },
        "id": "vXbPBg6Lcrli",
        "outputId": "4478a1b3-069c-480a-b8ce-946993071226"
      },
      "execution_count": 30,
      "outputs": [
        {
          "output_type": "stream",
          "name": "stdout",
          "text": [
            "ab cd hjoe\n",
            "Ab Cd Hjoe\n"
          ]
        }
      ]
    },
    {
      "cell_type": "code",
      "source": [
        "#write a program to check whether str1 is sub str of str2\n",
        "s1 = input()\n",
        "s2 = input()\n",
        "p=0\n",
        "count=0\n",
        "for i in range(len(s1)):\n",
        "  if s1[i] == s2[p] and (i == len(s1)-1 or s1[i+1] == s2[p+1]):\n",
        "    count=count+1\n",
        "    p += 1\n",
        "  if count == len(s2):\n",
        "    print(\"The string is sub string\")\n",
        "    break\n",
        "else:\n",
        "  print(\"The string is not sub string\"\n",
        "\n",
        "\n",
        ""
      ],
      "metadata": {
        "colab": {
          "base_uri": "https://localhost:8080/",
          "height": 245
        },
        "id": "fwQQwF5ojvCl",
        "outputId": "167c1b68-1f29-44ef-9a45-45e38c10f4a9"
      },
      "execution_count": 42,
      "outputs": [
        {
          "name": "stdout",
          "output_type": "stream",
          "text": [
            "elephant\n",
            "ant\n"
          ]
        },
        {
          "output_type": "error",
          "ename": "IndexError",
          "evalue": "string index out of range",
          "traceback": [
            "\u001b[0;31m---------------------------------------------------------------------------\u001b[0m",
            "\u001b[0;31mIndexError\u001b[0m                                Traceback (most recent call last)",
            "\u001b[0;32m/tmp/ipython-input-597397135.py\u001b[0m in \u001b[0;36m<cell line: 0>\u001b[0;34m()\u001b[0m\n\u001b[1;32m      5\u001b[0m \u001b[0;32mfor\u001b[0m \u001b[0mi\u001b[0m \u001b[0;32min\u001b[0m \u001b[0mrange\u001b[0m\u001b[0;34m(\u001b[0m\u001b[0mlen\u001b[0m\u001b[0;34m(\u001b[0m\u001b[0ms1\u001b[0m\u001b[0;34m)\u001b[0m\u001b[0;34m)\u001b[0m\u001b[0;34m:\u001b[0m\u001b[0;34m\u001b[0m\u001b[0;34m\u001b[0m\u001b[0m\n\u001b[1;32m      6\u001b[0m   \u001b[0;32mif\u001b[0m \u001b[0ms1\u001b[0m\u001b[0;34m[\u001b[0m\u001b[0mi\u001b[0m\u001b[0;34m]\u001b[0m \u001b[0;32min\u001b[0m \u001b[0ms2\u001b[0m\u001b[0;34m:\u001b[0m\u001b[0;34m\u001b[0m\u001b[0;34m\u001b[0m\u001b[0m\n\u001b[0;32m----> 7\u001b[0;31m     \u001b[0mp\u001b[0m\u001b[0;34m=\u001b[0m\u001b[0mp\u001b[0m\u001b[0;34m+\u001b[0m\u001b[0ms2\u001b[0m\u001b[0;34m[\u001b[0m\u001b[0mi\u001b[0m\u001b[0;34m]\u001b[0m\u001b[0;34m\u001b[0m\u001b[0;34m\u001b[0m\u001b[0m\n\u001b[0m\u001b[1;32m      8\u001b[0m \u001b[0;32mif\u001b[0m \u001b[0mp\u001b[0m\u001b[0;34m==\u001b[0m\u001b[0ms2\u001b[0m\u001b[0;34m:\u001b[0m\u001b[0;34m\u001b[0m\u001b[0;34m\u001b[0m\u001b[0m\n\u001b[1;32m      9\u001b[0m   \u001b[0mprint\u001b[0m\u001b[0;34m(\u001b[0m\u001b[0;34m\"The string is sub string\"\u001b[0m\u001b[0;34m)\u001b[0m\u001b[0;34m\u001b[0m\u001b[0;34m\u001b[0m\u001b[0m\n",
            "\u001b[0;31mIndexError\u001b[0m: string index out of range"
          ]
        }
      ]
    }
  ]
}